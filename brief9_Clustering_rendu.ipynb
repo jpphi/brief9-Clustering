{
 "cells": [
  {
   "cell_type": "markdown",
   "metadata": {},
   "source": [
    "# Clustering with K-means\n",
    "\n",
    "compétences: c1 c2 c3 c4 c5 c20\n",
    "Keywords: Unsupervised Learning, Clustering, Kmeans.\n",
    "\n",
    "## Description\n",
    "\n",
    "Découvrir l'apprentissage non-supervisé au travers de l'algorithme K-means.\n",
    "\n",
    "## Contexte\n",
    "\n",
    "L'apprentissage supervisé se présente comme une approche de l'apprentissage automatique qui permet de découvrir la structure sous-jacente des données en l'absence d'étiquetage, c'est à dire sans catégories ou classe connue en avance.\n",
    "\n",
    "Afin de se familiariser avec cette approche et mieux l'appréhender pour l'utiliser dans des scénario plus complexe, les objectifs sont les suivants : \n",
    "* Nous souhaitons comprendre le principe de cette technique et les scénarios d'utilisation\n",
    "* Expérimenter et évaluer un algorithme de cet classe de problème d'apprentissage : les  K-moyennes (ou K-means) sur un jeu de données simple.\n",
    "* Comprendre et comparer les métrique d'évaluation en jeux\n",
    "* tester sur des jeux précédemment utilisé de classification, la capacité de l'algorithme à retrouver les catégories de prédiction.\n",
    "\n",
    "\n",
    "## Ressources\n",
    "\n",
    "* https://le-datascientist.fr/apprentissage-supervise-vs-non-supervise\n",
    "* https://realpython.com/k-means-clustering-python/#writing-your-first-k-means-clustering-code-in-python\n",
    "* (fr) https://mrmint.fr/algorithme-k-means\n",
    "* https://scikit-learn.org/stable/modules/clustering.html#clustering\n",
    "* https://scikit-learn.org/stable/modules/clustering.html#clustering-evaluation"
   ]
  },
  {
   "cell_type": "markdown",
   "metadata": {},
   "source": [
    "## Questions de cours:  \n",
    "* Qu'est ce que le clustering ?  \n",
    "Le clustering (Regroupement) **consiste à séparer un ensemble de données en un certain nombre de groupes**. Chaque données appartenant aux mêmes groupes se \"ressemblent\" davantage que ceux d’autres groupes.  \n",
    "\n",
    "Il existe deux types de clustering :\n",
    "\n",
    "    Le clustering hiérarchique (comme le K-means)\n",
    "    Le clustering non-hiérarchique (partitionnement)\n",
    "    \n",
    "**Qu’est ce que K-means ?**  \n",
    "K-Means est l'un des **algorithmes utilisés pour le clustering non hiérarchique**. On donne en paramètre d'entré un nombre de groupe dans lesquelles les données seront répartie. L'algorithme va alors créer un \"centre\" par groupe autour duquel les données similaires seront regroupé. Les centres sont déterminés par approche successive: Au début on place les centres au hasard, puis on calcule les distances données-centre puis on déplace les centres en recherchant les \"distances minimum\". Par itération successive on trouvera le centre du nuage de point. Attention: Le centre doit appartenir au nuage de point.    \n",
    "Source Machine Learnia vidéo 24 https://www.youtube.com/watch?v=FTtzd31IAOw  \n",
    "\n",
    "Cet algorithme n'est pas adapté au morphologie de points qui n'incluerai pas le centre (comme un tore).\n",
    "\n",
    "* Est ce un probleme difficile ? pourquoi ?\n",
    "\n",
    "\n",
    "* Quelle est la compléxité d'un probléme de clustering ?  \n",
    "Souvent, **la complexité du clustering ne dépasse pas O(n.log(n))** ou peut même être linéaire. Il peut être utilisé pour réduire la complexité d'autres algorithmes.  \n",
    "Par exemple pour la détection des K plus proches voisins (qui est de complexité O(n^2)) le clustering peut être effectué en amont regroupant les éléments les plus similaires dans des paniers. L'algo des K-plus proches voisins peut ensuite être lancé dans chaque cluster réduisant quadratiquement le temps d’exécution.  \n",
    "Si la taille maximale d’un cluster est d’ordre de √n, le calcul des K-plus proches voisins peut devenir une tâche exécutée en O(n) au lieu de O(n^2), rendant cette tâche possible même dans le cadre d’un grand volume de données.  \n",
    "source: http://www.novagen.tech/clustering-cas-usage-subtilites/  \n",
    "\n",
    "* Quelle sont les métrique utilisé pour le clustering ?  \n",
    "**Inertia**  \n",
    "La valeur finale du critère d'inertie (somme des carrés des distances au centroïde le plus proche pour toutes les observations de l'ensemble d'entraînement).  \n",
    "  \n",
    "**Homogeneity (metrics.homogeneity_score)** \"given a ground truth\"  \n",
    "Mesure de l'homogénéité d'un cluster par rapport à la réalité terrain.  \n",
    "  \n",
    "Un résultat de regroupement satisfait à l'homogénéité si tous ses regroupements ne contiennent que des points de données qui appartiennent à une seule classe.  \n",
    "  \n",
    "Cette métrique est indépendante des valeurs absolues des étiquettes : une permutation des valeurs des étiquettes de classe ou de cluster ne changera en rien la valeur du point.  \n",
    "  \n",
    "Cette métrique n'est pas symétrique : la permutation de label_true avec label_pred renverra le score de complétude qui sera différent en général.  \n",
    "  \n",
    "\n",
    "**Completeness (metrics.completeness_score)** \"given a ground truth\"  \n",
    "Mesure de l'exhaustivité d'un étiquetage de cluster par rapport à la réalité.  \n",
    "  \n",
    "Un résultat de regroupement satisfait à l'exhaustivité si tous les points de données qui font partie d'une classe donnée sont des éléments du même regroupement.\n",
    "\n",
    "Cette métrique est indépendante des valeurs absolues des étiquettes.  \n",
    "  \n",
    "Cette métrique n'est pas symétrique.  \n",
    "  \n",
    "**V-measure (metrics.v_measure_score)** \"given a ground truth\"  \n",
    "L'étiquetage des grappes par mesure V a donné une vérité de base.\n",
    "\n",
    "Ce score est identique au score normalisé de l'information mutuelle avec l'option \"arithmétique\" pour le calcul de la moyenne.\n",
    "\n",
    "La mesure V est la moyenne harmonique entre l'homogénéité et l'exhaustivité :\n",
    "\n",
    "v = (1 + bêta) * homogénéité * complétude\n",
    "     / (bêta * homogénéité + exhaustivité)\n",
    "\n",
    "Cette mesure est indépendante des valeurs absolues des étiquettes : une permutation des valeurs des étiquettes de classe ou de grappe ne changera en rien la valeur du score.\n",
    "\n",
    "Cette métrique est en outre symétrique : la permutation de label_true avec label_pred renvoie la même valeur de score. Cela peut être utile pour mesurer l'accord de deux stratégies d'attribution d'étiquettes indépendantes sur le même ensemble de données lorsque la vérité de terrain réelle n'est pas connue.\n",
    "\n",
    "\n",
    "**ARI: Adjusted Rand Index (metrics.adjusted_rand_score)**  \n",
    "L'indice aléatoire calcule une mesure de similarité entre deux groupements en considérant toutes les paires d'échantillons et en comptant les paires qui sont assignées dans le même groupement ou dans des groupements différents dans les groupements prédits et réels.  \n",
    "  \n",
    "Le score brut de l'IR est ensuite \"ajusté pour le hasard\" dans le score de l'ARI en utilisant le schéma suivant :  \n",
    "  \n",
    "ARI = (RI - Expected_RI) / (max(RI) - Expected_RI)  \n",
    "  \n",
    "L'indice Rand ajusté est ainsi assuré d'avoir une valeur proche de 0,0 pour l'étiquetage aléatoire indépendamment du nombre de grappes et d'échantillons et exactement 1,0 lorsque les grappes sont identiques (jusqu'à une permutation).  \n",
    "  \n",
    "L'IRA est une mesure symétrique :  \n",
    "  \n",
    "adjusted_rand_score(a, b) == adjusted_rand_score(b, a)  \n",
    "  \n",
    "Pour en savoir plus, consultez le guide de l'utilisateur.  \n",
    "  \n",
    "**AMI: Adjusted Mutual Information (metrics.adjusted_mutual_info_score)**    \n",
    "L'information mutuelle ajustée (AMI) est un ajustement du score de l'information mutuelle (IM) pour tenir compte du hasard. Il tient compte du fait que l'IM est généralement plus élevé pour deux regroupements comportant un plus grand nombre de grappes, indépendamment du fait qu'il y ait réellement plus d'informations partagées. Pour deux regroupements et l'AMI est donné sous la forme :  \n",
    "  \n",
    "AMI(U, V) = [MI(U, V) - E(MI(U, V))] / [avg(H(U), H(V)) - E(MI(U, V))\n",
    "  \n",
    "Cette mesure est indépendante des valeurs absolues des étiquettes : une permutation des valeurs des étiquettes de classe ou de grappe ne changera en rien la valeur du score.\n",
    "  \n",
    "Cette métrique est en outre symétrique : la permutation de label_true avec label_pred renvoie la même valeur de score. Cela peut être utile pour mesurer l'accord de deux stratégies d'attribution d'étiquettes indépendantes sur le même ensemble de données lorsque la vérité de terrain réelle n'est pas connue.\n",
    "  \n",
    "N'oubliez pas que cette fonction est un ordre de grandeur plus lent que d'autres mesures, telles que l'indice aléatoire ajusté.\n",
    "  \n",
    "**Silhouette Coefficient (metrics.silhouette_score)**  \n",
    "Calculer le coefficient de silhouette moyen de tous les échantillons.\n",
    "  \n",
    "Le coefficient de silhouette est calculé en utilisant la distance moyenne intra-groupe (a) et la distance moyenne au plus proche groupe (b) pour chaque échantillon. Le coefficient de silhouette pour un échantillon est (b - a) / max(a, b). Pour plus de clarté, b est la distance entre un échantillon et la grappe la plus proche dont l'échantillon ne fait pas partie. Notez que le coefficient de silhouette n'est défini que si le nombre d'étiquettes est de 2 <= n_étiquettes <= n_échantillons - 1.\n",
    "  \n",
    "Cette fonction renvoie le coefficient de silhouette moyen sur l'ensemble des échantillons. Pour obtenir les valeurs de chaque échantillon, utilisez la fonction silhouette_échantillons.\n",
    "  \n",
    "La meilleure valeur est 1 et la pire valeur est -1. Les valeurs proches de 0 indiquent des grappes qui se chevauchent. Les valeurs négatives indiquent généralement qu'un échantillon a été attribué à la mauvaise grappe, car une grappe différente est plus semblable.\n",
    "  \n",
    "* séparer les métrique avec \"ground truth\" et \"sans \"ground truth\".   \n",
    "ground truth: Homogeneity, Completeness, V-measure  \n",
    "pas ground ! : ARI et AMI  \n",
    "  \n",
    "* différence entre NMI et AMI ?"
   ]
  },
  {
   "cell_type": "markdown",
   "metadata": {},
   "source": [
    "## Codes"
   ]
  },
  {
   "cell_type": "code",
   "execution_count": 19,
   "metadata": {},
   "outputs": [
    {
     "name": "stdout",
     "output_type": "stream",
     "text": [
      "X Shape:  (1797, 8, 8)\n",
      "Xdata Shape:  (1797, 64)\n",
      "Y shape:  (1797,)\n",
      "digits.target_name [0 1 2 3 4 5 6 7 8 9]\n"
     ]
    }
   ],
   "source": [
    "#------------------------------ IMPORTATION DES BIBLIOTHÈQUES -------------------------------\n",
    "#\n",
    "#--------------------------------------------------------------------------------------------\n",
    "\n",
    "import numpy as np\n",
    "import matplotlib.pyplot as plt\n",
    "import pandas as pds\n",
    "\n",
    "from sklearn.datasets import load_digits\n",
    "\n",
    "from sklearn.cluster import KMeans\n",
    "\n",
    "from sklearn.metrics import silhouette_score\n",
    "from sklearn import metrics\n",
    "from sklearn.metrics import accuracy_score\n",
    "\n",
    "from sklearn.decomposition import PCA\n",
    "from sklearn.preprocessing import StandardScaler\n",
    "\n",
    "from sklearn.pipeline import make_pipeline\n",
    "\n",
    "from sklearn.feature_extraction.text import CountVectorizer\n",
    "\n",
    "from kneed import KneeLocator\n",
    "\n",
    "from time import time\n",
    "\n",
    "#------------------------------ IMPORTATION DES DONNÉES -------------------------------------\n",
    "#\n",
    "# Et affichage de quelques unes de leurs caractèristiques\n",
    "#\n",
    "#--------------------------------------------------------------------------------------------\n",
    "\n",
    "# Dataset digits 0 à 9, écriture manuelle\n",
    "digits = load_digits()\n",
    "\n",
    "img8x8 = digits.images\n",
    "label_image = digits.target\n",
    "img64= digits.data\n",
    "nom_label = np.unique(label_image)\n",
    "\n",
    "print(\"X Shape: \", img8x8.shape)\n",
    "print(\"Xdata Shape: \", img64.shape)\n",
    "print(\"Y shape: \", label_image.shape)\n",
    "print(\"digits.target_name\", digits.target_names)"
   ]
  },
  {
   "cell_type": "code",
   "execution_count": 20,
   "metadata": {},
   "outputs": [
    {
     "data": {
      "image/png": "[encoded data removed]",
      "text/plain": [
       "<Figure size 1080x1080 with 100 Axes>"
      ]
     },
     "metadata": {
      "needs_background": "light"
     },
     "output_type": "display_data"
    }
   ],
   "source": [
    "#---------------- AFFICHAGE D'UN ÉCHANTILLON DES IMAGES CONSTITUANT LE DATASET --------------\n",
    "#\n",
    "# On peut paramètrer n pour afficher plus ou moins de colonnes\n",
    "#\n",
    "#--------------------------------------------------------------------------------------------\n",
    "\n",
    "n= 10\n",
    "fig, axs = plt.subplots(len(nom_label), n, figsize=(15, 15))\n",
    "for i, d in enumerate(nom_label):\n",
    "    for j in range(n):\n",
    "        # permet d'afficher sur une même ligne 'M' image représentant le même chiffre\n",
    "        axs[i,j].imshow(img8x8[label_image == d][j])\n",
    "        axs[i,j].axis('off')\n"
   ]
  },
  {
   "cell_type": "code",
   "execution_count": 21,
   "metadata": {},
   "outputs": [
    {
     "name": "stdout",
     "output_type": "stream",
     "text": [
      "Homogeneity: 0.741\n",
      "Completeness: 0.750\n",
      "V-measure: 0.746\n",
      "ARI: Adjusted Rand Index: 0.670\n",
      "AMI: Adjusted Mutual Information: 0.743\n",
      "Silhouette Coefficient: 0.302\n",
      "Inertia: 1165179.838\n"
     ]
    }
   ],
   "source": [
    "#----------- MODÈLE CHOISI POUR UN ALGO D'APPRENTISSAGE NON SUPERVISÉ: K-MEANS --------------\n",
    "#\n",
    "# On affiche les résultats de ce modèle.... pas ouf!\n",
    "#\n",
    "#--------------------------------------------------------------------------------------------\n",
    "\n",
    "modelKM = KMeans(n_clusters= 10)\n",
    "modelKM.fit(img64)\n",
    "prediction= modelKM.predict(img64)\n",
    "\n",
    "print(\"Homogeneity: %0.3f\" % metrics.homogeneity_score(label_image, prediction))\n",
    "print(\"Completeness: %0.3f\" % metrics.completeness_score(label_image, prediction))\n",
    "print(\"V-measure: %0.3f\" % metrics.v_measure_score(label_image, prediction))\n",
    "print(\"ARI: Adjusted Rand Index: %0.3f\"\n",
    "      % metrics.adjusted_rand_score(label_image, prediction))\n",
    "print(\"AMI: Adjusted Mutual Information: %0.3f\"\n",
    "      % metrics.adjusted_mutual_info_score(label_image, prediction))\n",
    "print(\"Silhouette Coefficient: %0.3f\"\n",
    "      % metrics.silhouette_score(img64, prediction, metric='sqeuclidean'))\n",
    "print(\"Inertia: %0.3f\"\n",
    "      % modelKM.inertia_)"
   ]
  },
  {
   "cell_type": "code",
   "execution_count": 22,
   "metadata": {},
   "outputs": [],
   "source": [
    "#----------------------------- SKLEARN: ETUDE DES DIGITS ------------------------------------\n",
    "#\n",
    "# CODE A ETUDIER\n",
    "#\n",
    "#--------------------------------------------------------------------------------------------\n",
    "\n",
    "def bench_k_means(kmeans, name, data, labels):\n",
    "    \"\"\"Benchmark to evaluate the KMeans initialization methods.\n",
    "\n",
    "    Parameters\n",
    "    ----------\n",
    "    kmeans : KMeans instance\n",
    "        A :class:`~sklearn.cluster.KMeans` instance with the initialization\n",
    "        already set.\n",
    "    name : str\n",
    "        Name given to the strategy. It will be used to show the results in a\n",
    "        table.\n",
    "    data : ndarray of shape (n_samples, n_features)\n",
    "        The data to cluster.\n",
    "    labels : ndarray of shape (n_samples,)\n",
    "        The labels used to compute the clustering metrics which requires some\n",
    "        supervision.\n",
    "    \"\"\"\n",
    "    t0 = time()\n",
    "    estimator = make_pipeline(StandardScaler(), kmeans).fit(data)\n",
    "    fit_time = time() - t0\n",
    "    results = [name, fit_time, estimator[-1].inertia_]\n",
    "\n",
    "    # Define the metrics which require only the true labels and estimator\n",
    "    # labels\n",
    "    clustering_metrics = [\n",
    "        metrics.homogeneity_score,\n",
    "        metrics.completeness_score,\n",
    "        metrics.v_measure_score,\n",
    "        metrics.adjusted_rand_score,\n",
    "        metrics.adjusted_mutual_info_score,\n",
    "    ]\n",
    "    results += [m(labels, estimator[-1].labels_) for m in clustering_metrics]\n",
    "\n",
    "    # The silhouette score requires the full dataset\n",
    "    results += [\n",
    "        metrics.silhouette_score(data, estimator[-1].labels_,\n",
    "                                 metric=\"euclidean\", sample_size=300,)\n",
    "    ]\n",
    "\n",
    "    # Show the results\n",
    "    formatter_result = (\"{:9s}\\t{:.3f}s\\t{:.0f}\\t{:.3f}\\t{:.3f}\"\n",
    "                        \"\\t{:.3f}\\t{:.3f}\\t{:.3f}\\t{:.3f}\")\n",
    "    print(formatter_result.format(*results))"
   ]
  },
  {
   "cell_type": "code",
   "execution_count": 23,
   "metadata": {},
   "outputs": [
    {
     "name": "stdout",
     "output_type": "stream",
     "text": [
      "__________________________________________________________________________________\n",
      "init\t\ttime\tinertia\thomo\tcompl\tv-meas\tARI\tAMI\tsilhouette\n",
      "k-means++\t0.212s\t69485\t0.613\t0.660\t0.636\t0.482\t0.632\t0.144\n",
      "random   \t0.080s\t69952\t0.545\t0.616\t0.578\t0.415\t0.574\t0.141\n",
      "PCA-based\t0.033s\t72686\t0.636\t0.658\t0.647\t0.521\t0.643\t0.128\n",
      "__________________________________________________________________________________\n"
     ]
    }
   ],
   "source": [
    "data, labels = load_digits(return_X_y=True)\n",
    "(n_samples, n_features), n_digits = data.shape, np.unique(labels).size\n",
    "\n",
    "print(82 * '_')\n",
    "print('init\\t\\ttime\\tinertia\\thomo\\tcompl\\tv-meas\\tARI\\tAMI\\tsilhouette')\n",
    "\n",
    "kmeans = KMeans(init=\"k-means++\", n_clusters=n_digits, n_init=4,\n",
    "                random_state=0)\n",
    "bench_k_means(kmeans=kmeans, name=\"k-means++\", data=data, labels=labels)\n",
    "\n",
    "kmeans = KMeans(init=\"random\", n_clusters=n_digits, n_init=4, random_state=0)\n",
    "bench_k_means(kmeans=kmeans, name=\"random\", data=data, labels=labels)\n",
    "\n",
    "pca = PCA(n_components=n_digits).fit(data)\n",
    "kmeans = KMeans(init=pca.components_, n_clusters=n_digits, n_init=1)\n",
    "bench_k_means(kmeans=kmeans, name=\"PCA-based\", data=data, labels=labels)\n",
    "\n",
    "print(82 * '_')"
   ]
  },
  {
   "cell_type": "code",
   "execution_count": 24,
   "metadata": {},
   "outputs": [
    {
     "data": {
      "image/png": "[encoded data removed]",
      "text/plain": [
       "<Figure size 432x288 with 1 Axes>"
      ]
     },
     "metadata": {},
     "output_type": "display_data"
    }
   ],
   "source": [
    "reduced_data = PCA(n_components=2).fit_transform(data)\n",
    "kmeans = KMeans(init=\"k-means++\", n_clusters=n_digits, n_init=4)\n",
    "kmeans.fit(reduced_data)\n",
    "\n",
    "# Step size of the mesh. Decrease to increase the quality of the VQ.\n",
    "h = .02     # point in the mesh [x_min, x_max]x[y_min, y_max].\n",
    "\n",
    "# Plot the decision boundary. For that, we will assign a color to each\n",
    "x_min, x_max = reduced_data[:, 0].min() - 1, reduced_data[:, 0].max() + 1\n",
    "y_min, y_max = reduced_data[:, 1].min() - 1, reduced_data[:, 1].max() + 1\n",
    "xx, yy = np.meshgrid(np.arange(x_min, x_max, h), np.arange(y_min, y_max, h))\n",
    "\n",
    "# Obtain labels for each point in mesh. Use last trained model.\n",
    "Z = kmeans.predict(np.c_[xx.ravel(), yy.ravel()])\n",
    "\n",
    "# Put the result into a color plot\n",
    "Z = Z.reshape(xx.shape)\n",
    "plt.figure(1)\n",
    "plt.clf()\n",
    "plt.imshow(Z, interpolation=\"nearest\",\n",
    "           extent=(xx.min(), xx.max(), yy.min(), yy.max()),\n",
    "           cmap=plt.cm.Paired, aspect=\"auto\", origin=\"lower\")\n",
    "\n",
    "plt.plot(reduced_data[:, 0], reduced_data[:, 1], 'k.', markersize=2)\n",
    "# Plot the centroids as a white X\n",
    "centroids = kmeans.cluster_centers_\n",
    "plt.scatter(centroids[:, 0], centroids[:, 1], marker=\"x\", s=169, linewidths=3,\n",
    "            color=\"w\", zorder=10)\n",
    "plt.title(\"K-means clustering on the digits dataset (PCA-reduced data)\\n\"\n",
    "          \"Centroids are marked with white cross\")\n",
    "plt.xlim(x_min, x_max)\n",
    "plt.ylim(y_min, y_max)\n",
    "plt.xticks(())\n",
    "plt.yticks(())\n",
    "plt.show()"
   ]
  },
  {
   "cell_type": "markdown",
   "metadata": {},
   "source": [
    "## Utilisation de KMeans sur des données textes  \n",
    "  \n",
    "Nous souhaitons utiliser le clustering (et dont Kmeans) pour analyser les données texte annoté (émotions) en notre possessions et identifier les documents anormaux et obtenir des piste pour améliorer les résultats de classification.\n",
    "\n",
    "En commençant par le premier jeux de donnée (le plus petit)\n",
    "\n",
    "1. Est-que les clusters obtenue avec kmeans reflete les groupements de texte par émotions ?\n",
    "2. comparer les résultats de plusieurs modéles dans un tableaux avec le temps, l'inertie, la NMI, la AMI, l'ARI Index et la silhouette.\n",
    "3. quelle est le nombre de cluster optimal au regard de la métrique \"silhouette\" ? de l'inertie ?  est ce que l'inertie est corrélé à la mesure de silhouette ?\n",
    "4. reproduire ces expériences avec le jeux de donnée 2.\n",
    "5. Peut-on identifier des cluster de documents ou des émotion difficile à classifier ? (ie cluster non homogéne)\n"
   ]
  },
  {
   "cell_type": "code",
   "execution_count": 25,
   "metadata": {},
   "outputs": [],
   "source": [
    "#------------------------------- ROUE DES ÉMOTIONS ------------------------------------------\n",
    "#\n",
    "# Liste des emotions: 'sadness' 'anger' 'love' 'surprise' 'fear' 'happy'\n",
    "# Colonnes: Text, Emotion \n",
    "#\n",
    "#--------------------------------------------------------------------------------------------\n",
    "def verif(chaine,form= ''):\n",
    "    print(form,chaine)\n",
    "\n",
    "data_emo= pds.read_csv('./data/Emotion_final.csv')\n",
    "\n",
    "xtext= data_emo.Text\n",
    "yemo= data_emo.Emotion\n",
    "yemo_code= yemo.replace(['sadness','anger','love','surprise','fear','happy'],[1,2,3,4,5,6])\n",
    "yemo_code= np.array(yemo_code)\n",
    "\n",
    "#verif(yemo_code)"
   ]
  },
  {
   "cell_type": "code",
   "execution_count": 26,
   "metadata": {},
   "outputs": [],
   "source": [
    "# Vobabulary analysis\n",
    "vect = CountVectorizer()\n",
    "vect_transform = vect.fit_transform(xtext)\n",
    "mots = vect.get_feature_names()\n",
    "#verif(mots)\n",
    "#type(vect_transform)"
   ]
  },
  {
   "cell_type": "code",
   "execution_count": 27,
   "metadata": {},
   "outputs": [],
   "source": [
    "#---------------------------- DÉTERMINATION DU NOMBRE DE CLUSTER ----------------------------\n",
    "#\n",
    "# Elbow Method\n",
    "#\n",
    "#--------------------------------------------------------------------------------------------\n",
    "\n",
    "inertie = []\n",
    "K_range = range(1, 20)\n",
    "for k in K_range:\n",
    "    modelKM = KMeans(n_clusters=k).fit(vect_transform)\n",
    "    inertie.append(modelKM.inertia_)\n",
    "    "
   ]
  },
  {
   "cell_type": "code",
   "execution_count": 14,
   "metadata": {},
   "outputs": [
    {
     "data": {
      "text/plain": [
       "Text(0, 0.5, 'Cout du modele (Inertia)')"
      ]
     },
     "execution_count": 14,
     "metadata": {},
     "output_type": "execute_result"
    },
    {
     "data": {
      "image/png": "[encoded data removed]",
      "text/plain": [
       "<Figure size 432x288 with 1 Axes>"
      ]
     },
     "metadata": {
      "needs_background": "light"
     },
     "output_type": "display_data"
    }
   ],
   "source": [
    "# La méthode du coude est longue, on sort l'affichage pour pouvoir le retravailler\n",
    "\n",
    "plt.plot(K_range, inertie)\n",
    "plt.xlabel('nombre de clusters')\n",
    "plt.ylabel('Cout du modele (Inertia)')"
   ]
  },
  {
   "cell_type": "code",
   "execution_count": 15,
   "metadata": {},
   "outputs": [
    {
     "name": "stdout",
     "output_type": "stream",
     "text": [
      "point_coude =  5\n",
      "On adaptera le nombre de cluster au nombre d'émotions dans le dataset. La méthode du coude valide ce choix et donne 5 (au lieu de 6)... mais ce n'est qu'une approximation.\n"
     ]
    }
   ],
   "source": [
    "point_coude = KneeLocator(range(1, 20), inertie, curve=\"convex\", direction=\"decreasing\")\n",
    "\n",
    "print(\"point_coude = \",point_coude.elbow)\n",
    "\n",
    "print(\"On adaptera le nombre de cluster au nombre d'émotions dans le dataset. La méthode du coude \\\n",
    "valide ce choix et donne 5 (au lieu de 6)... mais ce n'est qu'une approximation.\")"
   ]
  },
  {
   "cell_type": "code",
   "execution_count": 16,
   "metadata": {},
   "outputs": [],
   "source": [
    "model = KMeans(n_clusters= 6).fit(vect_transform)\n",
    "\n",
    "prediction= model.predict(vect_transform)\n"
   ]
  },
  {
   "cell_type": "code",
   "execution_count": 18,
   "metadata": {},
   "outputs": [
    {
     "name": "stdout",
     "output_type": "stream",
     "text": [
      "Homogeneity: 0.004\n",
      "Completeness: 0.004\n",
      "V-measure: 0.004\n",
      "ARI: Adjusted Rand Index: 0.005\n",
      "AMI: Adjusted Mutual Information: 0.004\n",
      "Silhouette Coefficient: -0.065\n",
      "Inertia: 351874.673\n"
     ]
    }
   ],
   "source": [
    "print(\"Homogeneity: %0.3f\" % metrics.homogeneity_score(yemo_code, prediction))\n",
    "print(\"Completeness: %0.3f\" % metrics.completeness_score(yemo_code, prediction))\n",
    "print(\"V-measure: %0.3f\" % metrics.v_measure_score(yemo_code, prediction))\n",
    "print(\"ARI: Adjusted Rand Index: %0.3f\" % metrics.adjusted_rand_score(yemo_code, prediction))\n",
    "print(\"AMI: Adjusted Mutual Information: %0.3f\" % metrics.adjusted_mutual_info_score(yemo_code, prediction))\n",
    "print(\"Silhouette Coefficient: %0.3f\" % metrics.silhouette_score(yemo_code.reshape(-1,1), \n",
    "        prediction, metric='sqeuclidean'))\n",
    "\n",
    "print(\"Inertia: %0.3f\"% model.inertia_)\n"
   ]
  },
  {
   "cell_type": "markdown",
   "metadata": {},
   "source": [
    "## Les résultats sont très mauvais, L'algorithme n'est donc pas adapté a ce type de données"
   ]
  }
 ],
 "metadata": {
  "kernelspec": {
   "display_name": "Python 3",
   "language": "python",
   "name": "python3"
  },
  "language_info": {
   "codemirror_mode": {
    "name": "ipython",
    "version": 3
   },
   "file_extension": ".py",
   "mimetype": "text/x-python",
   "name": "python",
   "nbconvert_exporter": "python",
   "pygments_lexer": "ipython3",
   "version": "3.8.5"
  }
 },
 "nbformat": 4,
 "nbformat_minor": 4
}
